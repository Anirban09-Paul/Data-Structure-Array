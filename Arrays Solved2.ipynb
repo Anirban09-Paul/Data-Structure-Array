{
 "cells": [
  {
   "cell_type": "markdown",
   "id": "2674d2cb",
   "metadata": {},
   "source": [
    "Create a list of all odd numbers between 1 and a max number. Max number is something you need to take from a user using input() function"
   ]
  },
  {
   "cell_type": "code",
   "execution_count": 5,
   "id": "ac528e77",
   "metadata": {},
   "outputs": [
    {
     "name": "stdout",
     "output_type": "stream",
     "text": [
      "Enter max num: 20\n",
      "odd_num are:  [1, 3, 5, 7, 9, 11, 13, 15, 17, 19]\n"
     ]
    }
   ],
   "source": [
    "# O(n) complexity\n",
    "max=int(input('Enter max num: '))\n",
    "odd_num=[]\n",
    "for i in range(max):\n",
    "    if i%2==1:\n",
    "        odd_num.append(i)\n",
    "        \n",
    "print('odd_num are: ',odd_num)"
   ]
  },
  {
   "cell_type": "markdown",
   "id": "ad5c7f95",
   "metadata": {},
   "source": [
    "create a list and check wheather there is any duplicate number or not if yeas print it"
   ]
  },
  {
   "cell_type": "code",
   "execution_count": 9,
   "id": "8432a55d",
   "metadata": {},
   "outputs": [
    {
     "name": "stdout",
     "output_type": "stream",
     "text": [
      "duplicate number is: 5\n",
      "duplicate number is: 5\n"
     ]
    }
   ],
   "source": [
    "# O(n) complexity \n",
    "l=[5,4,2,5,8]\n",
    "duplicate=5\n",
    "for i in l:\n",
    "    if i==duplicate:\n",
    "        print('duplicate number is:',i)"
   ]
  },
  {
   "cell_type": "code",
   "execution_count": 13,
   "id": "ffa3803b",
   "metadata": {},
   "outputs": [
    {
     "name": "stdout",
     "output_type": "stream",
     "text": [
      "6\n"
     ]
    }
   ],
   "source": [
    "# O(n2) complexity\n",
    "l=[3,6,2,4,3,6,8,9]\n",
    "duplicate=None\n",
    "for i in range(len(l)):\n",
    "    for j in range(i+1,len(l)):\n",
    "        if l[i]==l[j]:\n",
    "            duplicate=l[i]\n",
    "            break\n",
    "print(duplicate)"
   ]
  },
  {
   "cell_type": "markdown",
   "id": "a5084297",
   "metadata": {},
   "source": [
    "Find out a number is in the list or not"
   ]
  },
  {
   "cell_type": "code",
   "execution_count": 18,
   "id": "73d9f838",
   "metadata": {},
   "outputs": [
    {
     "name": "stdout",
     "output_type": "stream",
     "text": [
      "enter your number: 45\n",
      "No,your chosing number is not in the list\n",
      "No,your chosing number is not in the list\n",
      "No,your chosing number is not in the list\n",
      "No,your chosing number is not in the list\n",
      "No,your chosing number is not in the list\n",
      "No,your chosing number is not in the list\n",
      "No,your chosing number is not in the list\n",
      "No,your chosing number is not in the list\n"
     ]
    }
   ],
   "source": [
    "# O(n) complexity\n",
    "l=[4,9,15,21,34,57,68,91]\n",
    "is_in=int(input(\"enter your number: \"))\n",
    "for i in range(len(l)):\n",
    "    if l[i]==is_in:\n",
    "        print(\"Yes, your chosing number is in the list\")\n",
    "    print('No,your chosing number is not in the list')"
   ]
  }
 ],
 "metadata": {
  "kernelspec": {
   "display_name": "Python 3",
   "language": "python",
   "name": "python3"
  },
  "language_info": {
   "codemirror_mode": {
    "name": "ipython",
    "version": 3
   },
   "file_extension": ".py",
   "mimetype": "text/x-python",
   "name": "python",
   "nbconvert_exporter": "python",
   "pygments_lexer": "ipython3",
   "version": "3.9.4"
  }
 },
 "nbformat": 4,
 "nbformat_minor": 5
}
