{
 "cells": [
  {
   "cell_type": "markdown",
   "id": "34fc2865",
   "metadata": {},
   "source": [
    "Let us say your expense for every month are listed below,\n",
    "January - 2200\n",
    "February - 2350\n",
    "March - 2600\n",
    "April - 2130\n",
    "May - 2190\n",
    "Create a list to store these monthly expenses and using that find out,\n",
    "\n",
    "1. In Feb, how many dollars you spent extra compare to January?\n",
    "2. Find out your total expense in first quarter (first three months) of the year.\n",
    "3. Find out if you spent exactly 2000 dollars in any month\n",
    "4. June month just finished and your expense is 1980 dollar. Add this item to our monthly expense list\n",
    "5. You returned an item that you bought in a month of April and\n",
    "got a refund of 200$. Make a correction to your monthly expense list\n",
    "based on this"
   ]
  },
  {
   "cell_type": "code",
   "execution_count": 60,
   "id": "be854903",
   "metadata": {},
   "outputs": [
    {
     "name": "stdout",
     "output_type": "stream",
     "text": [
      "In feb dollars spent extra compare to January: 150\n"
     ]
    }
   ],
   "source": [
    "monthly_expense=[2200,2350,2600,2130,2190]\n",
    "print('In feb dollars spent extra compare to January:', monthly_expense[1]-monthly_expense[0])"
   ]
  },
  {
   "cell_type": "code",
   "execution_count": 62,
   "id": "5ba96463",
   "metadata": {},
   "outputs": [
    {
     "name": "stdout",
     "output_type": "stream",
     "text": [
      "total expense in first quarter of the year: 7150\n"
     ]
    }
   ],
   "source": [
    "print('total expense in first quarter of the year:',monthly_expense[0]+monthly_expense[1]+monthly_expense[2])"
   ]
  },
  {
   "cell_type": "code",
   "execution_count": 64,
   "id": "d17c6c4f",
   "metadata": {},
   "outputs": [
    {
     "name": "stdout",
     "output_type": "stream",
     "text": [
      "did i spent extra $2000 in any month? False\n"
     ]
    }
   ],
   "source": [
    "print('did i spent extra $2000 in any month?', 2000 in monthly_expense)"
   ]
  },
  {
   "cell_type": "code",
   "execution_count": 69,
   "id": "e234a0ff",
   "metadata": {},
   "outputs": [
    {
     "name": "stdout",
     "output_type": "stream",
     "text": [
      "june month just finished,so i expense is $1980,my new list is: None\n"
     ]
    },
    {
     "data": {
      "text/plain": [
       "[2200, 2350, 2600, 2130, 2190, 1980, 1980, 1980, 1980]"
      ]
     },
     "execution_count": 69,
     "metadata": {},
     "output_type": "execute_result"
    }
   ],
   "source": [
    "print('june month just finished,so i expense is $1980,my new list is:',monthly_expense.append(1980))\n",
    "monthly_expense"
   ]
  },
  {
   "cell_type": "code",
   "execution_count": 70,
   "id": "b61cf4c5",
   "metadata": {},
   "outputs": [
    {
     "name": "stdout",
     "output_type": "stream",
     "text": [
      "i return an item in april month, so i refund $200: 1930\n"
     ]
    }
   ],
   "source": [
    "print('i return an item in april month, so i refund $200:',monthly_expense[3]-200)"
   ]
  }
 ],
 "metadata": {
  "kernelspec": {
   "display_name": "Python 3",
   "language": "python",
   "name": "python3"
  },
  "language_info": {
   "codemirror_mode": {
    "name": "ipython",
    "version": 3
   },
   "file_extension": ".py",
   "mimetype": "text/x-python",
   "name": "python",
   "nbconvert_exporter": "python",
   "pygments_lexer": "ipython3",
   "version": "3.9.4"
  }
 },
 "nbformat": 4,
 "nbformat_minor": 5
}
